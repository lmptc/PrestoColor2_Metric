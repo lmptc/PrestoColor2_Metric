{
 "cells": [
  {
   "cell_type": "code",
   "execution_count": null,
   "metadata": {},
   "outputs": [],
   "source": []
  },
  {
   "cell_type": "code",
   "execution_count": null,
   "metadata": {},
   "outputs": [],
   "source": []
  },
  {
   "cell_type": "code",
   "execution_count": null,
   "metadata": {},
   "outputs": [],
   "source": [
    "def get_starDensity(ra=0, dec=0, starMap=None, mag=25):\n",
    "    '''get star density of a field, from star density map,\n",
    "    input ra, dec in degree \n",
    "    returns stars / (sq degree)\n",
    "    '''\n",
    "    ra = ra * np.pi / 180   # convert to radian\n",
    "    dec = dec * np.pi / 180\n",
    "\n",
    "    starMapDensity = starMap['starDensity'].copy()\n",
    "    starMapBins = starMap['bins'].copy()\n",
    "    starmapNside = hp.npix2nside( np.size(starMapDensity[:,0]) )\n",
    "    \n",
    "    ipix = radec2pix(starmapNside, ra, dec) # convert from ra/dec to ipix \n",
    "    density = interp1d( starMapBins[1:], starMapDensity[ipix, :] ) (mag)\n",
    "    return int( density )"
   ]
  }
 ],
 "metadata": {
  "kernelspec": {
   "display_name": "Python 3",
   "language": "python",
   "name": "python3"
  },
  "language_info": {
   "codemirror_mode": {
    "name": "ipython",
    "version": 3
   },
   "file_extension": ".py",
   "mimetype": "text/x-python",
   "name": "python",
   "nbconvert_exporter": "python",
   "pygments_lexer": "ipython3",
   "version": "3.7.8"
  }
 },
 "nbformat": 4,
 "nbformat_minor": 4
}

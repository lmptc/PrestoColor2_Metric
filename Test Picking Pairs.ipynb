{
 "cells": [
  {
   "cell_type": "code",
   "execution_count": 1,
   "metadata": {
    "id": "ljTAVeW_CdWy"
   },
   "outputs": [],
   "source": [
    "import pandas as pd"
   ]
  },
  {
   "cell_type": "code",
   "execution_count": 2,
   "metadata": {
    "id": "3xWCK32SCfnz"
   },
   "outputs": [],
   "source": [
    "import numpy as np"
   ]
  },
  {
   "cell_type": "code",
   "execution_count": 3,
   "metadata": {
    "id": "pbSvDNB-Cuu_"
   },
   "outputs": [],
   "source": [
    "import scipy \n",
    "from scipy import spatial\n",
    "\n",
    "from itertools import combinations\n"
   ]
  },
  {
   "cell_type": "code",
   "execution_count": 4,
   "metadata": {
    "colab": {
     "base_uri": "https://localhost:8080/"
    },
    "id": "quI1Q-pBEyLF",
    "outputId": "a689d850-5307-40c8-dfe6-af760981570e"
   },
   "outputs": [
    {
     "data": {
      "text/plain": [
       "array([2.41659224, 2.43825314, 2.75009709, 4.38612764, 5.44920096,\n",
       "       5.64514133, 7.00984874, 7.62426376, 7.71766955, 7.95108611])"
      ]
     },
     "execution_count": 4,
     "metadata": {},
     "output_type": "execute_result"
    }
   ],
   "source": [
    "np.random.seed(567)\n",
    "times = np.sort(np.random.rand(10)*8)\n",
    "times"
   ]
  },
  {
   "cell_type": "code",
   "execution_count": 5,
   "metadata": {
    "colab": {
     "base_uri": "https://localhost:8080/"
    },
    "id": "ukcxqafhHWw6",
    "outputId": "8a75b2d7-af5c-42d9-89e6-abffd848056f"
   },
   "outputs": [
    {
     "data": {
      "text/plain": [
       "array(['i', 'i', 'i', 'r', 'g', 'g', 'r', 'i', 'g', 'i', 'g', 'r', 'r',\n",
       "       'g', 'r'], dtype='<U1')"
      ]
     },
     "execution_count": 5,
     "metadata": {},
     "output_type": "execute_result"
    }
   ],
   "source": [
    "filtershere = np.array(['i','r','g']*5)\n",
    "np.random.shuffle(filtershere)\n",
    "filtershere"
   ]
  },
  {
   "cell_type": "code",
   "execution_count": 6,
   "metadata": {
    "colab": {
     "base_uri": "https://localhost:8080/"
    },
    "id": "EUbR6knhG6p-",
    "outputId": "ea54fbb3-3b85-4fc9-aed2-4a4c2a8b2ad7"
   },
   "outputs": [
    {
     "data": {
      "text/plain": [
       "{'filters': array(['i', 'i', 'i', 'r', 'g', 'g', 'r', 'i', 'g', 'i', 'g', 'r', 'r',\n",
       "        'g', 'r'], dtype='<U1')}"
      ]
     },
     "execution_count": 6,
     "metadata": {},
     "output_type": "execute_result"
    }
   ],
   "source": [
    "Detect = {\"filters\": filtershere}\n",
    "Detect"
   ]
  },
  {
   "cell_type": "code",
   "execution_count": 7,
   "metadata": {
    "id": "kOr-Jwl5ChKX"
   },
   "outputs": [],
   "source": [
    "dTs = abs(times.reshape(1, len(times)) - times.reshape(len(times), 1))"
   ]
  },
  {
   "cell_type": "code",
   "execution_count": 8,
   "metadata": {
    "colab": {
     "base_uri": "https://localhost:8080/"
    },
    "id": "CO62B09VCkO9",
    "outputId": "23fcb703-5b96-4a79-be91-36ce9c3dc64a"
   },
   "outputs": [
    {
     "data": {
      "text/plain": [
       "(10, 10)"
      ]
     },
     "execution_count": 8,
     "metadata": {},
     "output_type": "execute_result"
    }
   ],
   "source": [
    "dTs.shape"
   ]
  },
  {
   "cell_type": "code",
   "execution_count": 10,
   "metadata": {
    "colab": {
     "base_uri": "https://localhost:8080/"
    },
    "id": "VeZRvKZXC8TD",
    "outputId": "144d4ca9-cf87-4c9a-8c18-b6bff3776d36"
   },
   "outputs": [
    {
     "name": "stdout",
     "output_type": "stream",
     "text": [
      "0 [0 1 3] ['i' 'i' 'r']\n",
      "0 [0 2 3] ['i' 'i' 'r']\n",
      "1 [1 2 3] ['i' 'i' 'r']\n",
      "3 [3 4 5] ['r' 'g' 'g']\n"
     ]
    }
   ],
   "source": [
    "for i in range(dTs.shape[0]):\n",
    "  #print(i, dTs[i])\n",
    "  _tmp = np.where(dTs[i] < 2)[0]\n",
    "  groupsOfThree = np.array(list(combinations(_tmp[i:],3)))\n",
    "  for g3 in groupsOfThree:\n",
    "    if g3[0] == i and len(np.unique(Detect[\"filters\"][g3])) == 2:\n",
    "        print(i, g3, Detect[\"filters\"][g3])\n",
    "      # calculate dM, color\n",
    "      # get indices for filter 1 and filter 2\n",
    "      #  get indices for dT1 and dT2\n",
    "    "
   ]
  },
  {
   "cell_type": "code",
   "execution_count": 219,
   "metadata": {
    "colab": {
     "base_uri": "https://localhost:8080/"
    },
    "id": "YFPB8kN9Hlpk",
    "outputId": "6033199b-409e-446d-a04e-57f06b154745"
   },
   "outputs": [
    {
     "name": "stdout",
     "output_type": "stream",
     "text": [
      "0 [0 1 3] ['i' 'i' 'r']\n",
      "0 [0 2 3] ['i' 'i' 'r']\n",
      "1 [1 2 3] ['i' 'i' 'r']\n",
      "3 [3 4 5] ['r' 'g' 'g']\n",
      "4 [4 5 6] ['g' 'g' 'r']\n",
      "6 [6 7 9] ['r' 'i' 'i']\n",
      "7 [7 8 9] ['i' 'g' 'i']\n"
     ]
    }
   ],
   "source": [
    "for i in range(dTs.shape[0]):\n",
    "  #print(i, dTs[i])\n",
    "  _tmp = np.where(dTs[i][i:] < 2)[0]\n",
    "  groupsOfThree = np.array(list(combinations(_tmp+i,3)))\n",
    "  for g3 in groupsOfThree:\n",
    "    if g3[0] == i and len(np.unique(Detect[\"filters\"][g3])) == 2:\n",
    "      filters = Detect[\"filters\"][g3]\n",
    "      print(i, g3, filters)\n",
    "      # calculate dM, color\n",
    "      # get indices for filter 1 and filter 2\n",
    "      #  get indices for dT1 and dT2\n",
    "    "
   ]
  },
  {
   "cell_type": "code",
   "execution_count": 215,
   "metadata": {
    "colab": {
     "base_uri": "https://localhost:8080/"
    },
    "id": "LUtnVVak7WjH",
    "outputId": "f0e1b4f0-19a7-4dae-9286-f234724b7110"
   },
   "outputs": [
    {
     "name": "stdout",
     "output_type": "stream",
     "text": [
      "[0 0 0 0 1 1 1 1 2 2 2 2 3 3 3 3 3 3 4 4 4 4 5 5 5 5 5 6 6 6 6 6 6 7 7 7 7\n",
      " 7 8 8 8 8 9 9 9 9]\n",
      "[0 1 2 3 0 1 2 3 0 1 2 3 0 1 2 3 4 5 3 4 5 6 3 4 5 6 7 4 5 6 7 8 9 5 6 7 8\n",
      " 9 6 7 8 9 6 7 8 9]\n"
     ]
    }
   ],
   "source": [
    "index0, index1 = np.where( ( abs(dTs)<2 ) ) #The time differences should be within 32 hours (2 nights)\n",
    "print(index0)\n",
    "print(index1)"
   ]
  },
  {
   "cell_type": "code",
   "execution_count": 11,
   "metadata": {
    "colab": {
     "base_uri": "https://localhost:8080/"
    },
    "id": "GLJiUAw-1ZIF",
    "outputId": "351e1fd5-97af-4f9a-e89f-a90043474bb4"
   },
   "outputs": [
    {
     "name": "stdout",
     "output_type": "stream",
     "text": [
      "729 µs ± 3.05 µs per loop (mean ± std. dev. of 7 runs, 1000 loops each)\n"
     ]
    }
   ],
   "source": [
    "%%timeit\n",
    "index0, index1 = np.where( ( abs(dTs)<2 ) ) #The time differences should be within 32 hours (2 nights)\n",
    "for ii in range(dTs.shape[0]):          \n",
    "    groupsOfThrees = [ [ii] + list(jj) for jj in list(combinations( index1[ (index0==ii) * (index1>ii) ], 2)) ]    \n",
    "    for g3 in groupsOfThrees:\n",
    "        if len(np.unique(Detect[\"filters\"][g3])) == 2:\n",
    "            filters = Detect[\"filters\"][g3]\n",
    "            # print(ii, g3, filters)"
   ]
  },
  {
   "cell_type": "code",
   "execution_count": 12,
   "metadata": {
    "colab": {
     "base_uri": "https://localhost:8080/"
    },
    "id": "cQ4Qe8RJ84C7",
    "outputId": "fc7d504a-d149-4835-bd36-10ca57378c4a"
   },
   "outputs": [
    {
     "name": "stdout",
     "output_type": "stream",
     "text": [
      "783 µs ± 8.17 µs per loop (mean ± std. dev. of 7 runs, 1000 loops each)\n"
     ]
    }
   ],
   "source": [
    "%%timeit\n",
    "for i in range(dTs.shape[0]):\n",
    "    #print(i, dTs[i])\n",
    "    _tmp = np.where(dTs[i][i:] < 2)[0]\n",
    "    groupsOfThree = np.array(list(combinations(_tmp+i,3)))\n",
    "    for g3 in groupsOfThree:\n",
    "        if g3[0] == i and len(np.unique(Detect[\"filters\"][g3])) == 2:\n",
    "            filters = Detect[\"filters\"][g3]\n",
    "            # print(i, g3, filters)\n",
    "            # calculate dM, color\n",
    "            # get indices for filter 1 and filter 2\n",
    "            #  get indices for dT1 and dT2\n",
    "    "
   ]
  },
  {
   "cell_type": "code",
   "execution_count": 13,
   "metadata": {
    "id": "xLUo55Oh9BDQ"
   },
   "outputs": [
    {
     "name": "stdout",
     "output_type": "stream",
     "text": [
      "729 µs ± 8.57 µs per loop (mean ± std. dev. of 7 runs, 1000 loops each)\n"
     ]
    }
   ],
   "source": [
    "%%timeit\n",
    "index0, index1 = np.where( ( abs(dTs)<2 ) ) \n",
    "\n",
    "for ii in range(dTs.shape[0]):        \n",
    "    groupsOfThree = [ [ii] + list(jj) for jj in list(combinations( index1[ (index0==ii) * (index1>ii) ], 2)) ]    \n",
    "    for g3 in groupsOfThree:\n",
    "        if len(np.unique(Detect[\"filters\"][g3])) == 2:\n",
    "            filters = Detect[\"filters\"][g3]\n",
    "            # print(ii, g3, filters)"
   ]
  },
  {
   "cell_type": "code",
   "execution_count": 221,
   "metadata": {
    "id": "YydFJReTUIFg"
   },
   "outputs": [],
   "source": [
    "dTindex0, dTindex1 = np.where( ( abs(dTs)<2 ) ) "
   ]
  },
  {
   "cell_type": "code",
   "execution_count": 195,
   "metadata": {
    "colab": {
     "base_uri": "https://localhost:8080/"
    },
    "id": "t6CoEL6u9NMk",
    "outputId": "d6468c8f-bc66-45d6-f891-422cc3bf5e2b"
   },
   "outputs": [
    {
     "name": "stdout",
     "output_type": "stream",
     "text": [
      "10000 loops, best of 5: 174 µs per loop\n"
     ]
    }
   ],
   "source": [
    "%%timeit\n",
    "\n",
    "for ii in range(dTs.shape[0]):        \n",
    "    groupsOfThree = np.array([ [ii] + list(jj) for jj in list(combinations( dTindex0[ (dTindex0==ii) * (dTindex1>ii) ], 2)) ])    \n",
    "    for g3 in groupsOfThree:\n",
    "        filters = Detect[\"filters\"][g3]\n",
    "        if len(np.unique(filters)) != 2:\n",
    "            continue\n",
    "        # print(ii, g3, filters)"
   ]
  },
  {
   "cell_type": "code",
   "execution_count": 204,
   "metadata": {
    "colab": {
     "base_uri": "https://localhost:8080/"
    },
    "id": "Cd4fGKuVnsKc",
    "outputId": "61ce1842-22c3-41bf-ba1c-42159a0fbe1f"
   },
   "outputs": [
    {
     "name": "stdout",
     "output_type": "stream",
     "text": [
      "10000 loops, best of 5: 193 µs per loop\n"
     ]
    }
   ],
   "source": [
    "%%timeit\n",
    "\n",
    "for ii in range(dTs.shape[0]):        \n",
    "    groupsOfThree = np.array(list(combinations( dTindex0[ (dTindex0==ii) * (dTindex1>=ii) ], 3)))\n",
    "    for g3 in groupsOfThree:\n",
    "        filters = Detect[\"filters\"][g3]\n",
    "        if g3[0]!=ii or len(np.unique(filters)) != 2:\n",
    "            continue\n",
    "        # print(ii, g3, filters)"
   ]
  },
  {
   "cell_type": "code",
   "execution_count": 226,
   "metadata": {
    "id": "UYcTKWRQp-B7"
   },
   "outputs": [],
   "source": [
    "for ii in range(dTs.shape[0]):        \n",
    "    groupsOfThree = np.array([ [ii] + list(jj) for jj in list(combinations( dTindex0[ (dTindex0==ii) * (dTindex1>ii) ], 2)) ])    \n",
    "    for g3 in groupsOfThree:\n",
    "        filters = Detect[\"filters\"][g3]\n",
    "        if len(np.unique(filters)) != 2:\n",
    "            continue\n",
    "        print(ii, g3, filters)"
   ]
  },
  {
   "cell_type": "code",
   "execution_count": 225,
   "metadata": {
    "colab": {
     "base_uri": "https://localhost:8080/"
    },
    "id": "MUQqv9zzrKwv",
    "outputId": "bb6ad99f-989b-438d-cbee-74562b21587c"
   },
   "outputs": [
    {
     "name": "stdout",
     "output_type": "stream",
     "text": [
      "9 [7 7 7] ['i' 'i' 'i']\n"
     ]
    }
   ],
   "source": [
    "print(ii, g3, filters)"
   ]
  },
  {
   "cell_type": "code",
   "execution_count": 223,
   "metadata": {
    "id": "Ho-VnKcMpyPZ"
   },
   "outputs": [],
   "source": [
    "for ii in range(dTs.shape[0]):        \n",
    "    groupsOfThree = np.array(list(combinations( dTindex0[ (dTindex0==ii) * (dTindex1>=ii) ], 3)))\n",
    "    for g3 in groupsOfThree:\n",
    "        filters = Detect[\"filters\"][g3]\n",
    "        if g3[0]!=ii or len(np.unique(filters)) != 2:\n",
    "            continue\n",
    "        print(ii, g3, filters)"
   ]
  },
  {
   "cell_type": "code",
   "execution_count": 224,
   "metadata": {
    "colab": {
     "base_uri": "https://localhost:8080/"
    },
    "id": "Jg-ryK5Loua8",
    "outputId": "9f454622-0c12-4eb3-aea9-01118d1b20fd"
   },
   "outputs": [
    {
     "data": {
      "text/plain": [
       "{'filters': array(['i', 'i', 'i', 'r', 'g', 'g', 'r', 'i', 'g', 'i', 'g', 'r', 'r',\n",
       "        'g', 'r'], dtype='<U1')}"
      ]
     },
     "execution_count": 224,
     "metadata": {},
     "output_type": "execute_result"
    }
   ],
   "source": [
    "Detect"
   ]
  },
  {
   "cell_type": "code",
   "execution_count": null,
   "metadata": {
    "id": "aoKVr59DBUuL"
   },
   "outputs": [],
   "source": [
    "%%timeit\n",
    "\n",
    "for ii in range(dTs.shape[0]): \n",
    "    \n",
    "    for jj in dTindex1[ (dTindex0==ii) * (dTindex1>ii) ]:\n",
    "        \n",
    "        for kk in dTindex1[ (dTindex0==ii) * (dTindex1>jj) ]:\n",
    "            \n",
    "            #subDTs = dTs[ [[ii],[jj],[kk]], [ii,jj,kk] ]\n",
    "            \n",
    "            #Determine the corresponding bands of the 3 observationss\n",
    "            BandA = Detect['filters'][ii]\n",
    "            BandB = Detect['filters'][jj]\n",
    "            BandC = Detect['filters'][kk]\n",
    "            \n",
    "            Bands = np.array([BandA, BandB, BandC])\n",
    "            BandsUnique = np.unique(Bands)\n",
    "            \n",
    "            if len(BandsUnique) != 2: #If the observations have 1 or 3 bands, continue\n",
    "                continue\n",
    "            # print(ii, [ii,jj,kk], Bands)"
   ]
  },
  {
   "cell_type": "code",
   "execution_count": null,
   "metadata": {
    "id": "Ios6Rgq2Udr_"
   },
   "outputs": [],
   "source": []
  },
  {
   "cell_type": "code",
   "execution_count": 194,
   "metadata": {
    "colab": {
     "base_uri": "https://localhost:8080/"
    },
    "id": "f6Bt8M-cJ-VC",
    "outputId": "f7ab6dcd-00ff-470f-aeb8-73d34e35e948"
   },
   "outputs": [
    {
     "data": {
      "text/plain": [
       "array([[1, 2, 3],\n",
       "       [1, 2, 4],\n",
       "       [1, 2, 5],\n",
       "       [1, 3, 4],\n",
       "       [1, 3, 5],\n",
       "       [1, 4, 5],\n",
       "       [2, 3, 4],\n",
       "       [2, 3, 5],\n",
       "       [2, 4, 5],\n",
       "       [3, 4, 5]])"
      ]
     },
     "execution_count": 194,
     "metadata": {},
     "output_type": "execute_result"
    }
   ],
   "source": [
    "np.array(list(combinations([1,2,3,4,5],3)))"
   ]
  },
  {
   "cell_type": "code",
   "execution_count": null,
   "metadata": {
    "id": "NIHbTjXAffH9"
   },
   "outputs": [],
   "source": []
  }
 ],
 "metadata": {
  "colab": {
   "name": "Untitled130.ipynb",
   "provenance": []
  },
  "kernelspec": {
   "display_name": "Python 3",
   "language": "python",
   "name": "python3"
  },
  "language_info": {
   "codemirror_mode": {
    "name": "ipython",
    "version": 3
   },
   "file_extension": ".py",
   "mimetype": "text/x-python",
   "name": "python",
   "nbconvert_exporter": "python",
   "pygments_lexer": "ipython3",
   "version": "3.7.8"
  }
 },
 "nbformat": 4,
 "nbformat_minor": 4
}

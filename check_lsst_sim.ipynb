{
 "cells": [
  {
   "cell_type": "code",
   "execution_count": 1,
   "metadata": {},
   "outputs": [
    {
     "ename": "ModuleNotFoundError",
     "evalue": "No module named 'dl'",
     "output_type": "error",
     "traceback": [
      "\u001b[0;31m\u001b[0m",
      "\u001b[0;31mModuleNotFoundError\u001b[0mTraceback (most recent call last)",
      "\u001b[0;32m<ipython-input-1-f531e63ba9fe>\u001b[0m in \u001b[0;36m<module>\u001b[0;34m\u001b[0m\n\u001b[1;32m      3\u001b[0m \u001b[0;34m\u001b[0m\u001b[0m\n\u001b[1;32m      4\u001b[0m \u001b[0;31m# Data Lab\u001b[0m\u001b[0;34m\u001b[0m\u001b[0;34m\u001b[0m\u001b[0;34m\u001b[0m\u001b[0m\n\u001b[0;32m----> 5\u001b[0;31m \u001b[0;32mfrom\u001b[0m \u001b[0mdl\u001b[0m \u001b[0;32mimport\u001b[0m \u001b[0mauthClient\u001b[0m \u001b[0;32mas\u001b[0m \u001b[0mac\u001b[0m\u001b[0;34m,\u001b[0m \u001b[0mqueryClient\u001b[0m \u001b[0;32mas\u001b[0m \u001b[0mqc\u001b[0m\u001b[0;34m,\u001b[0m \u001b[0mstoreClient\u001b[0m \u001b[0;32mas\u001b[0m \u001b[0msc\u001b[0m\u001b[0;34m\u001b[0m\u001b[0;34m\u001b[0m\u001b[0m\n\u001b[0m\u001b[1;32m      6\u001b[0m \u001b[0;32mfrom\u001b[0m \u001b[0mdl\u001b[0m\u001b[0;34m.\u001b[0m\u001b[0mhelpers\u001b[0m\u001b[0;34m.\u001b[0m\u001b[0mutils\u001b[0m \u001b[0;32mimport\u001b[0m \u001b[0mconvert\u001b[0m\u001b[0;34m\u001b[0m\u001b[0;34m\u001b[0m\u001b[0m\n",
      "\u001b[0;31mModuleNotFoundError\u001b[0m: No module named 'dl'"
     ]
    }
   ],
   "source": [
    "# Standard lib\n",
    "from getpass import getpass\n",
    "\n",
    "# Data Lab\n",
    "from dl import authClient as ac, queryClient as qc, storeClient as sc\n",
    "from dl.helpers.utils import convert"
   ]
  },
  {
   "cell_type": "code",
   "execution_count": 10,
   "metadata": {},
   "outputs": [],
   "source": [
    "#See https://github.com/astro-datalab/notebooks-latest/blob/master/04_HowTos/QueryClient/How_to_use_the_Data_Lab_QueryClient.ipynb"
   ]
  },
  {
   "cell_type": "code",
   "execution_count": 11,
   "metadata": {},
   "outputs": [
    {
     "name": "stdout",
     "output_type": "stream",
     "text": [
      "\n",
      "Schema: lsst_sim\n",
      "\n",
      "      Table Name   Description\n",
      "      ----------   -----------\n",
      "          simdr1   lsst simulation data release 1\n",
      "          simdr2   lsst simulation data release 2\n",
      "\n"
     ]
    }
   ],
   "source": [
    "print(qc.schema('lsst_sim'))"
   ]
  },
  {
   "cell_type": "code",
   "execution_count": 12,
   "metadata": {},
   "outputs": [
    {
     "name": "stdout",
     "output_type": "stream",
     "text": [
      "\n",
      "Schema: lsst_sim\n",
      " Table: simdr2\n",
      "\n",
      "     Column Name   Description\n",
      "     -----------   -----------\n",
      "              ra   Right Ascension J2000 (deg)\n",
      "             dec   Declination J2000 (deg)\n",
      "            gall   Galactic longitude (deg)\n",
      "            galb   Galactic latitude (deg)\n",
      "              gc   Galactic component, thin disk=1, thick disk=2, halo=3, bul\n",
      "                   ge=4, MCs=5\n",
      "          logage   Logarithm of age in years\n",
      "             m_h   Initial Metallicity [M/H], equal to [Fe/H] in this version\n",
      "                   (dex)\n",
      "           m_ini   Initial mass (M_sun)\n",
      "          mratio   Mass ratio of binary systems (0 for single stars)\n",
      "             mu0   True distance modulus\n",
      "              av   V-band Extinction\n",
      "            mass   Present mass (M_sun)\n",
      "            logl   Logarithm of luminosity in L_sun\n",
      "           logte   Log effective temperature (K)\n",
      "            logg   Logarithm of surface gravity in cgs units\n",
      "           label   Evolutionary phase, PMS=0, MS=1, SGB=2, RGB=3, CHeB=4,5,6,\n",
      "                   EAGB=7, TPAGB=8, PAGB+WD=9\n",
      "         mcoretp   Core mass during the TP-AGB, otherwise null (Msun)\n",
      "             c_o   Surface C/O ratio by number, n_C/n_O\n",
      "         period0   Period of fundamental mode (days) if LPV, otherwise null\n",
      "         period1   Period of first overtone mode (days) if LPV, otherwise null\n",
      "         period2   Period of second overtone mode (days) if LPV, otherwise null\n",
      "         period3   Period of third overtone mode (days) if LPV, otherwise null\n",
      "         period4   Period of fourth overtone mode (days) if LPV, otherwise null\n",
      "           pmode   Expected pulsation mode if LPV, fundamental=0, first overt\n",
      "                   one=1, second overtone=2, third overtone=3, fourth overton\n",
      "                   e=4, -1 otherwise\n",
      "           mloss   Mass loss rate (M_sun/year)\n",
      "           tau1m   Optical depth at 1 micron, for stars w/ heavy mass loss\n",
      "               x   Surface H mass fraction\n",
      "               y   Surface He mass fraction\n",
      "              xc   Surface C mass fraction\n",
      "              xn   Surface N mass fraction\n",
      "              xo   Surface O mass fraction\n",
      "         cexcess   Carbon excess at surface, log(n_c-n_O)-log(n_H)+12, -1 for\n",
      "                   O-rich stars\n",
      "               z   Linear heavy element abundance\n",
      "         mbolmag   Apparent Bolometric luminosity (4.77 for Sun)\n",
      "            umag   LSST u-band magnitude (ABmag)\n",
      "            gmag   LSST g-band magnitude (ABmag)\n",
      "            rmag   LSST r-band magnitude (ABmag)\n",
      "            imag   LSST i-band magnitude (ABmag)\n",
      "            zmag   LSST z-band magnitude (ABmag)\n",
      "            ymag   LSST y-band magnitude (ABmag)\n",
      "       gaia_gmag   Gaia G magnitude (Vegamag)\n",
      "         g_bpmag   Gaia G-BP color (Vegamag)\n",
      "         g_rpmag   Gaia G-RP color (Vegamag)\n",
      "            velu   U-component velocity\n",
      "            velv   V-component velocity\n",
      "            velw   W-component velocity\n",
      "            vrad   Radial velocity\n",
      "        pmracosd   Proper motion in RA*cos(Dec)\n",
      "           pmdec   Proper motion in Dec\n",
      "            htm9   HTM index (order-9 -> ~10 arcmin size)\n",
      "         ring256   Ring-scheme HEALPix (Gorski et al. 2005) index with NSIDE=\n",
      "                   256 (~14 arcmin resolution)\n",
      "        nest4096   HEALPIX index (Nsides 4096, Nest scheme => ~52 arcsec size)\n",
      "       random_id   Random ID in the range 0.0 => 100.0\n",
      "            elon   Ecliptic longitude\n",
      "            elat   Ecliptic latitude\n",
      "\n"
     ]
    }
   ],
   "source": [
    "print(qc.schema('lsst_sim.simdr2'))"
   ]
  },
  {
   "cell_type": "code",
   "execution_count": 16,
   "metadata": {},
   "outputs": [],
   "source": [
    "query =\\\n",
    "\"\"\"SELECT COUNT(*)\n",
    "   FROM lsst_sim.simdr2\n",
    "   WHERE rmag BETWEEN 15.0 AND 24.0\"\"\""
   ]
  },
  {
   "cell_type": "code",
   "execution_count": 17,
   "metadata": {},
   "outputs": [
    {
     "name": "stdout",
     "output_type": "stream",
     "text": [
      "SELECT COUNT(*)\n",
      "   FROM lsst_sim.simdr2\n",
      "   WHERE rmag BETWEEN 15.0 AND 24.0\n"
     ]
    }
   ],
   "source": [
    "print(query)"
   ]
  },
  {
   "cell_type": "code",
   "execution_count": 18,
   "metadata": {},
   "outputs": [],
   "source": [
    "result = qc.query(sql=query)"
   ]
  },
  {
   "cell_type": "code",
   "execution_count": 19,
   "metadata": {},
   "outputs": [
    {
     "name": "stdout",
     "output_type": "stream",
     "text": [
      "count\n",
      "3649643604\n",
      "\n"
     ]
    }
   ],
   "source": [
    "print(result)"
   ]
  },
  {
   "cell_type": "code",
   "execution_count": null,
   "metadata": {},
   "outputs": [],
   "source": []
  }
 ],
 "metadata": {
  "kernelspec": {
   "display_name": "Python 3",
   "language": "python",
   "name": "python3"
  },
  "language_info": {
   "codemirror_mode": {
    "name": "ipython",
    "version": 3
   },
   "file_extension": ".py",
   "mimetype": "text/x-python",
   "name": "python",
   "nbconvert_exporter": "python",
   "pygments_lexer": "ipython3",
   "version": "3.7.8"
  }
 },
 "nbformat": 4,
 "nbformat_minor": 5
}
